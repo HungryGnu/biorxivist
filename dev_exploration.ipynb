{
 "cells": [
  {
   "cell_type": "markdown",
   "id": "9a6848e7-c143-4534-9f02-325e43f04e15",
   "metadata": {},
   "source": [
    "# BioRxivist\n",
    "\n",
    "BioRxivist is a tool designed to help obtain full text articles for [BioRxiv](https://biorxiv.org) and facilitate the use of this text to integrate with LLM and build knowledge graph infrastructure using [Neo4J](https://neo4j.com/).\n"
   ]
  },
  {
   "cell_type": "code",
   "execution_count": 1,
   "id": "c05c418e-cd3c-42a7-9fe5-1c72cb51cf76",
   "metadata": {},
   "outputs": [
    {
     "data": {
      "text/plain": [
       "'3.10.13 (main, Nov  6 2023, 22:35:59) [GCC 9.4.0]'"
      ]
     },
     "execution_count": 1,
     "metadata": {},
     "output_type": "execute_result"
    }
   ],
   "source": [
    "import os\n",
    "import sys\n",
    "sys.version"
   ]
  },
  {
   "cell_type": "code",
   "execution_count": 2,
   "id": "5604835e-25f2-46fc-9a5a-f9f810657121",
   "metadata": {},
   "outputs": [],
   "source": [
    "from dotenv import find_dotenv, load_dotenv\n",
    "from os import environ\n",
    "import openai\n",
    "# import classes from BioRxivist\n",
    "from biorxivist.webtools import BioRxivPaper, BioRxivDriver, SearchResult\n",
    "from biorxivist.vectorstore import Neo4JDatabase"
   ]
  },
  {
   "cell_type": "code",
   "execution_count": 3,
   "id": "9611a8eb-9c56-4f97-a19c-1475f1f47611",
   "metadata": {},
   "outputs": [
    {
     "data": {
      "text/plain": [
       "True"
      ]
     },
     "execution_count": 3,
     "metadata": {},
     "output_type": "execute_result"
    }
   ],
   "source": [
    "# load_environment variables like our API key and Neo4J credentials\n",
    "load_dotenv(find_dotenv())"
   ]
  },
  {
   "cell_type": "markdown",
   "id": "111478bf-7f81-42d1-a8a1-cab97885d55f",
   "metadata": {},
   "source": [
    "# 1. Using BioRxivist to find and load text from papers\n",
    "\n",
    "The first thing we'll want to do is find a paper of interest.  Well use the object from this package. `BioRxivDriver` will give us access to BioRxiv's search utility. `SearchResuls` will help us manage the results of our search. `BioRxivPaper` will manage how we access text from the papers "
   ]
  },
  {
   "cell_type": "code",
   "execution_count": 4,
   "id": "d1529063-e03d-4488-bb65-208c6bbdedd8",
   "metadata": {},
   "outputs": [],
   "source": [
    "driver = BioRxivDriver()"
   ]
  },
  {
   "cell_type": "code",
   "execution_count": 5,
   "id": "cd805022-1fb4-48c8-a1d4-65d870a66bad",
   "metadata": {},
   "outputs": [],
   "source": [
    "r = driver.search_biorxiv('TGF-Beta 1 Signaling in monocyte maturation')"
   ]
  },
  {
   "cell_type": "code",
   "execution_count": 6,
   "id": "a99a51b9-8d3c-49f9-9e4e-60c5ab684fae",
   "metadata": {},
   "outputs": [
    {
     "data": {
      "text/plain": [
       "'https://www.biorxiv.org/search/TGF-Beta+1+Signaling+in+monocyte+maturation%20numresults:75'"
      ]
     },
     "execution_count": 6,
     "metadata": {},
     "output_type": "execute_result"
    }
   ],
   "source": [
    "r.response.request.url"
   ]
  },
  {
   "cell_type": "code",
   "execution_count": 7,
   "id": "7128d5df-5f5c-4fd4-9345-8d8762beb601",
   "metadata": {},
   "outputs": [
    {
     "data": {
      "text/plain": [
       "biorxivist.webtools.SearchResult"
      ]
     },
     "execution_count": 7,
     "metadata": {},
     "output_type": "execute_result"
    }
   ],
   "source": [
    "type(r)"
   ]
  },
  {
   "cell_type": "code",
   "execution_count": 8,
   "id": "f9cd44c9-0794-4dbf-a369-09ef43dc38c5",
   "metadata": {},
   "outputs": [
    {
     "data": {
      "text/plain": [
       "75"
      ]
     },
     "execution_count": 8,
     "metadata": {},
     "output_type": "execute_result"
    }
   ],
   "source": [
    "len(r.results)"
   ]
  },
  {
   "cell_type": "code",
   "execution_count": 9,
   "id": "b294bd28-a357-488d-83fd-1eb3425b3bd2",
   "metadata": {},
   "outputs": [],
   "source": [
    "# load more results\n",
    "r.more()"
   ]
  },
  {
   "cell_type": "code",
   "execution_count": 10,
   "id": "279cf43f-b3af-43ef-b4d0-693589590bbe",
   "metadata": {},
   "outputs": [
    {
     "data": {
      "text/plain": [
       "150"
      ]
     },
     "execution_count": 10,
     "metadata": {},
     "output_type": "execute_result"
    }
   ],
   "source": [
    "len(r.results)"
   ]
  },
  {
   "cell_type": "code",
   "execution_count": 11,
   "id": "a2733528-4b18-4f79-84e6-e9bacd70e444",
   "metadata": {
    "scrolled": true
   },
   "outputs": [
    {
     "data": {
      "text/plain": [
       "[[Cross-species analysis identifies conserved transcriptional mechanisms of neutrophil maturation](https://biorxiv.org/content/10.1101/2022.11.28.518146v1),\n",
       " [Melanogenic Activity Facilitates Dendritic Cell Maturation via FMOD](https://biorxiv.org/content/10.1101/2022.05.14.491976v2),\n",
       " [Microglia integration into human midbrain organoids leads to increased neuronal maturation and functionality](https://biorxiv.org/content/10.1101/2022.01.21.477192v1),\n",
       " [Long-term culture of fetal monocyte precursors in vitro allowing the generation of bona fide alveolar macrophages in vivo](https://biorxiv.org/content/10.1101/2021.06.04.447115v2),\n",
       " [Pathologic α-Synuclein Species Activate LRRK2 in Pro-Inflammatory Monocyte and Macrophage Responses](https://biorxiv.org/content/10.1101/2020.05.04.077065v1)]"
      ]
     },
     "execution_count": 11,
     "metadata": {},
     "output_type": "execute_result"
    }
   ],
   "source": [
    "# Results are a list of BioRxivPaper objects\n",
    "r.results[0:5]"
   ]
  },
  {
   "cell_type": "markdown",
   "id": "f3084d76-6a86-4b7c-96a6-00f6613b2760",
   "metadata": {},
   "source": [
    "# BioRxivPaper Objects:\n",
    "BioRxiv Paper objects link us to BioRxiv resources related to individual papers. Once instantiated these papers load a minimal amount of information into memory the URI of the papers homepage and the title.  Other features like the paper's abstract and full text are lazy-loaded properties. They are only accessed once we call them for the first time. After that they are available from memory so we don't have to hit the URL another time.\n",
    "\n",
    "They are also feed directly into our LangChain pipeline.  In the next section we will make sure of their BioRxivPaper.langchain_html_doc attribute."
   ]
  },
  {
   "cell_type": "markdown",
   "id": "97dfc87b-2008-47e5-922a-21deac938c99",
   "metadata": {},
   "source": [
    "# Interact with individual papers:\n",
    "The results are a collection of BioRxivPaper objects.  We can interact with them by indexing into the list or we can pull them out and interact with them here:"
   ]
  },
  {
   "cell_type": "code",
   "execution_count": 12,
   "id": "a50604bf-6ac2-422f-8f9f-302bca715fdc",
   "metadata": {},
   "outputs": [],
   "source": [
    "paper3 = r.results[3]"
   ]
  },
  {
   "cell_type": "code",
   "execution_count": 13,
   "id": "63275c1a-a20d-4536-81ad-f621b265fbc7",
   "metadata": {},
   "outputs": [
    {
     "data": {
      "text/plain": [
       "'Long-term culture of fetal monocyte precursors in vitro allowing the generation of bona fide alveolar macrophages in vivo'"
      ]
     },
     "execution_count": 13,
     "metadata": {},
     "output_type": "execute_result"
    }
   ],
   "source": [
    "paper3.title"
   ]
  },
  {
   "cell_type": "code",
   "execution_count": 14,
   "id": "a5b6b4d7-d2ea-402f-841f-ef8fc9ed8369",
   "metadata": {
    "scrolled": true
   },
   "outputs": [
    {
     "data": {
      "text/plain": [
       "'Tissue-resident macrophage-based immune therapies have been proposed for various diseases. However, generation of sufficient numbers that possess tissue-specific functions remains a major handicap. Here, we show that fetal liver monocytes (FLiMo) cultured with GM-CSF (also known as CSF2) rapidly differentiate into a long-lived, homogeneous alveolar macrophage (AM)-like population in vitro. CSF2-cultured FLiMo remain the capacity to develop into bona fide AM upon transfer into Csf2ra-/- neonates and prevent development of alveolar proteinosis and efferocytosis of apoptotic cells for at least 1 year in vivo. Compared to transplantation of AM-like cells derived from bone marrow macrophages (BMM), CSF2-cFliMo more efficiently engraft empty AM niches in the lung and protect mice from respiratory viral infection. Harnessing the potential of this approach for gene therapy, we restored a disrupted Csf2ra gene in FLiMo and their capacity to develop into AM in vivo. Together, we provide a novel platform for generation of immature AM-like precursors amenable for genetic manipulation, which will be useful to study to dissect AM development and function and pulmonary transplantation therapy.'"
      ]
     },
     "execution_count": 14,
     "metadata": {},
     "output_type": "execute_result"
    }
   ],
   "source": [
    "paper3.abstract"
   ]
  },
  {
   "cell_type": "markdown",
   "id": "1ba4ad80-e6f8-4655-9833-6d7f52082a2f",
   "metadata": {},
   "source": [
    "# Accessing the paper's text\n",
    "\n",
    "There are now a few ways to access the papers text:"
   ]
  },
  {
   "cell_type": "code",
   "execution_count": 15,
   "id": "95269fac-94bd-4e1b-bb37-628e2576d6b4",
   "metadata": {
    "scrolled": true
   },
   "outputs": [
    {
     "name": "stdout",
     "output_type": "stream",
     "text": [
      "... CSF2-cultured FLiMo remain the capacity to develop into bona fide AM upon transfer into Csf2ra-/- neonates and prevent development of alveolar proteinosis and efferocytosis of apoptotic cells for at least 1 year in vivo. Compared to transplantation of AM-like cells derived from bone marrow macrophages (BMM), CSF2-cFliMo more efficiently engraft empty AM niches in the lung and protect mice from respiratory viral infection. Harnessing the potential of this approach for gene therapy, we restored a disrupted Csf2ra gene in FLiMo and their capacity to develop into AM in vivo. Together, we provide a novel ...\n"
     ]
    }
   ],
   "source": [
    "# through the paper.text property:\n",
    "# print(paper3.text)\n",
    "# by accessing the BioRxivPaper.__str__ attribute:\n",
    "print(f'...{paper3[392:1000]}...')"
   ]
  },
  {
   "cell_type": "markdown",
   "id": "3d838013-9177-4876-b516-96556492247e",
   "metadata": {},
   "source": [
    "# Build vector Embeddings:"
   ]
  },
  {
   "cell_type": "code",
   "execution_count": 16,
   "id": "237d148d-2481-48ea-8dea-964fe697fc64",
   "metadata": {},
   "outputs": [],
   "source": [
    "openai.api_key = environ['OPENAI_API_KEY']"
   ]
  },
  {
   "cell_type": "code",
   "execution_count": 17,
   "id": "92b72fcc-de3f-4042-8941-5f7251574c41",
   "metadata": {},
   "outputs": [],
   "source": [
    "from langchain.embeddings.openai import OpenAIEmbeddings\n",
    "from langchain.text_splitter import CharacterTextSplitter\n",
    "# TODO: There is an HTML text splitter. maybe skip bs4 and cut to chase?\n",
    "from langchain.vectorstores import Neo4jVector\n",
    "from langchain.document_loaders import TextLoader\n",
    "from langchain.docstore.document import Document"
   ]
  },
  {
   "cell_type": "code",
   "execution_count": 18,
   "id": "6b261b72-11e8-4c8f-a838-33bc8adaa1a1",
   "metadata": {},
   "outputs": [
    {
     "name": "stderr",
     "output_type": "stream",
     "text": [
      "Created a chunk of size 1197, which is longer than the specified 1000\n",
      "Created a chunk of size 1274, which is longer than the specified 1000\n",
      "Created a chunk of size 1647, which is longer than the specified 1000\n",
      "Created a chunk of size 1902, which is longer than the specified 1000\n",
      "Created a chunk of size 1529, which is longer than the specified 1000\n",
      "Created a chunk of size 1496, which is longer than the specified 1000\n",
      "Created a chunk of size 1123, which is longer than the specified 1000\n",
      "Created a chunk of size 1078, which is longer than the specified 1000\n",
      "Created a chunk of size 1122, which is longer than the specified 1000\n",
      "Created a chunk of size 1342, which is longer than the specified 1000\n",
      "Created a chunk of size 1292, which is longer than the specified 1000\n",
      "Created a chunk of size 1133, which is longer than the specified 1000\n",
      "Created a chunk of size 1627, which is longer than the specified 1000\n",
      "Created a chunk of size 1483, which is longer than the specified 1000\n",
      "Created a chunk of size 1387, which is longer than the specified 1000\n",
      "Created a chunk of size 1177, which is longer than the specified 1000\n",
      "Created a chunk of size 1695, which is longer than the specified 1000\n",
      "Created a chunk of size 1495, which is longer than the specified 1000\n",
      "Created a chunk of size 1233, which is longer than the specified 1000\n",
      "Created a chunk of size 1192, which is longer than the specified 1000\n",
      "Created a chunk of size 1187, which is longer than the specified 1000\n",
      "Created a chunk of size 1174, which is longer than the specified 1000\n"
     ]
    },
    {
     "data": {
      "text/plain": [
       "43"
      ]
     },
     "execution_count": 18,
     "metadata": {},
     "output_type": "execute_result"
    }
   ],
   "source": [
    "len(paper3.langchain_doc)"
   ]
  },
  {
   "cell_type": "code",
   "execution_count": 19,
   "id": "369a57c3-60a0-4b85-b963-f66595f53728",
   "metadata": {},
   "outputs": [],
   "source": [
    "embeddings = OpenAIEmbeddings()"
   ]
  },
  {
   "cell_type": "code",
   "execution_count": 20,
   "id": "3dae019a-c352-4a5f-86f3-46aa42ed215d",
   "metadata": {},
   "outputs": [],
   "source": [
    "# TODO lets make an object in BioRxivist that does this\n",
    "vec = Neo4jVector.from_documents(\n",
    "    paper3.langchain_doc, OpenAIEmbeddings(), \n",
    "    url=f'bolt://{environ[\"NEO4J_HOST\"]}:{environ[\"NEO4J_BOLT_PORT\"]}',\n",
    "    username=environ['NEO4J_USERNAME'],\n",
    "    password=''\n",
    ")"
   ]
  },
  {
   "cell_type": "code",
   "execution_count": 21,
   "id": "c8828b86-77b5-43b6-989d-b4b099ad8b31",
   "metadata": {},
   "outputs": [
    {
     "data": {
      "text/plain": [
       "langchain.vectorstores.neo4j_vector.Neo4jVector"
      ]
     },
     "execution_count": 21,
     "metadata": {},
     "output_type": "execute_result"
    }
   ],
   "source": [
    "type(vec)"
   ]
  },
  {
   "cell_type": "code",
   "execution_count": 23,
   "id": "9dadf370-918a-4760-907d-b6bf2ee02f8b",
   "metadata": {},
   "outputs": [],
   "source": [
    "docs_with_score = vec.similarity_search_with_score('What is the role of CSF2?', k=5)"
   ]
  },
  {
   "cell_type": "code",
   "execution_count": 24,
   "id": "09f4dc4e-b0c6-4c46-8e3b-432cba829992",
   "metadata": {},
   "outputs": [
    {
     "data": {
      "text/plain": [
       "(Document(page_content='In addition to the homeostatic function, AM play an essential role in protecting influenza virus-infected mice from morbidity by maintaining lung integrity through the removal of dead cells and excess surfactant (Schneider et al, 2014). To assess the functional capacity of CSF2-cFLiMo-derived AM during pulmonary virus infection, we reconstituted Csf2ra-/- neonates with CSF2-cFLiMo and infected adults 10 weeks later with influenza virus PR8 (Fig. 5A). Without transfer, Csf2ra-/- mice succumbed to infection due to lung failure (Fig. 5B-E), as reported previously (Schneider et al, 2017). Notably, the presence of CSF2-cFLiMo-derived-AM protected Csf2ra-/- mice from severe morbidity (Fig. 5B, C) and completely restored viability (Fig. 5D) and O2 saturation (Fig. 5E) compared to infected WT mice.', metadata={'title': 'Long-term culture of fetal monocyte precursors in vitro allowing the generation of bona fide alveolar macrophages in vivo', 'source': 'https://biorxiv.org/content/10.1101/2021.06.04.447115v2.full-text'}),\n",
       " 0.9213951230049133)"
      ]
     },
     "execution_count": 24,
     "metadata": {},
     "output_type": "execute_result"
    }
   ],
   "source": [
    "docs_with_score[0]"
   ]
  },
  {
   "cell_type": "code",
   "execution_count": 25,
   "id": "a6237058-580e-4c80-8fe8-c92fc8367e70",
   "metadata": {},
   "outputs": [
    {
     "name": "stdout",
     "output_type": "stream",
     "text": [
      "--------------------------------------------------------------------------------\n",
      "Score:  0.9213951230049133\n",
      "In addition to the homeostatic function, AM play an essential role in protecting influenza virus-infected mice from morbidity by maintaining lung integrity through the removal of dead cells and excess surfactant (Schneider et al, 2014). To assess the functional capacity of CSF2-cFLiMo-derived AM during pulmonary virus infection, we reconstituted Csf2ra-/- neonates with CSF2-cFLiMo and infected adults 10 weeks later with influenza virus PR8 (Fig. 5A). Without transfer, Csf2ra-/- mice succumbed to infection due to lung failure (Fig. 5B-E), as reported previously (Schneider et al, 2017). Notably, the presence of CSF2-cFLiMo-derived-AM protected Csf2ra-/- mice from severe morbidity (Fig. 5B, C) and completely restored viability (Fig. 5D) and O2 saturation (Fig. 5E) compared to infected WT mice.\n",
      "--------------------------------------------------------------------------------\n",
      "--------------------------------------------------------------------------------\n",
      "Score:  0.92054283618927\n",
      "CSF2-cFLiMo generated from wild-type or gene-deficient mice could be used as a high-throughput screening system to study AM development in vitro and in vivo. Our model is suitable to study the relationship between AM and lung tissue, as well as the roles of specific genes or factors in AM development and function. Furthermore, CSF2-cFLiMo can overcome the limitation in macrophage precursor numbers and be used as a therapeutic approach for PAP disease or in other macrophage-based cell therapies including lung emphysema, lung fibrosis, lung infectious disease and lung cancer (Byrne et al, 2016; Lee et al, 2016; Wilson et al, 2010). Finally, genetically modified and transferred CSF2-cFLiMo might facilitate the controlled expression of specific therapeutic proteins in the lung for disease treatment, and therefore, could represent an attractive alternative to non-specific gene delivery by viral vectors.\n",
      "--------------------------------------------------------------------------------\n",
      "--------------------------------------------------------------------------------\n",
      "Score:  0.9168769717216492\n",
      "Overall, our studies demonstrate that CSF2-cFLiMo-AM were functionally equivalent to naturally differentiated AM. To determine the number of donor cells required to fully reconstitute the AM compartment of Csf2ra-/- mice, we titrated the number of transferred CSF2-cFLiMo (Fig. 4A). Transfer of a minimum of 5×104 CSF2-cFLiMo to neonatal Csf2ra-/- mice resulted in AM numbers in adult recipients that were comparable to unmanipulated WT mice (around 5×105) (Fig. 4B) and protected mice from PAP (Fig. 4C). We have previously established that around 10% of primary fetal liver monocytes supplied intranasally reach the lung (Li et al, 2020). Thus, CSF2-cFLiMo have expanded around 100-fold 6 weeks after transfer to Csf2ra-/- neonates. Notably, extended time of CSF2-cFLiMo in vitro culture (i.e. 4 months) prior transfer into recipient mice did not negatively affect their differentiation and functional capacity (Fig. 4B, C). Another critical function of tissue-resident macrophages including AM is the removal of apoptotic cells (efferocytosis) (Morioka et al, 2019). We compared efferocytosis between CSF2-cFLiMo-AM in Csf2ra-/- mice and AM in WT mice by intratracheal (i.t.) installation of labelled apoptotic thymocytes. CSF2-cFLiMo-AM and AM were equally potent at phagocytosing apoptotic cells from the bronchoalveolar space (Fig. 4D).\n",
      "--------------------------------------------------------------------------------\n",
      "--------------------------------------------------------------------------------\n",
      "Score:  0.9152920246124268\n",
      "Next, we assessed whether CSF2-cFLiMo show therapeutic activity upon transfer into adult Csf2ra-/- mice, which had already developed PAP. Adult Csf2ra-/- mice were transferred i.t. with 0.5, 1 or 2 million CSF2-cFLiMo (Fig. 4E-G). Ten weeks after transfer, donor-derived AM were detectable in the BAL and lung of Csf2ra-/- only in recipients transferred with 2 million cells (Fig. 4F). The protein levels in the BAL from mice transferred with 2×106 cells were significantly lower when compared to naïve Csf2ra-/- mice, suggesting that transferred cells were able to reduce proteinosis, although not to the level of WT mice (Fig. 4G). However, CSF2-cFLiMo-derived AM exhibited higher expression of F4/80 and CD11b, and lower expression of Siglec-F and CD64 when compared to WT AM (Fig. E5A, B), indicating that the AM phenotype was not fully recapitulated but intermediate between AM-derived from CSF2-cFLiMo transferred to neonates and AM-derived from CSF2-cFLiMo transplanted to adult mice. These results show that CSF2-cFLiMo can reproduce AM phenotype and function most adequately only when transferred to neonatal Csf2ra-/- mice.\n",
      "--------------------------------------------------------------------------------\n",
      "--------------------------------------------------------------------------------\n",
      "Score:  0.9150279760360718\n",
      "To assess whether CSF2-cFLiMo can develop to bona fide AM and perform AM function in vivo, we transferred congenically marked CSF2-cFLiMo intranasally (i.n.) to newborn Csf2ra-/- mice (Fig. 1A), which lack AM (Li et al, 2020; Schneider et al, 2017). Analysis of the BAL and lung of Csf2ra-/- recipients showed efficient engraftment of donor-derived cells that resemble mature CD11chiSiglec-Fhi AM (Fig. 1C and Fig. E3A). The numbers of CSF2-cFLiMo-derived AM rapidly increased within the first 6 weeks after transfer, before reaching a relatively stable population size (Fig. 1D), similar to the kinetics during normal postnatal AM differentiation (Guilliams et al, 2013; Schneider et al, 2014). While CSF2-cFLiMo were CD11bhiSiglec-Flo before transfer, they down-regulated CD11b and up-regulated CD11c and Siglec-F surface expression upon transfer and expansion in vivo, indicating that they completed their differentiation to become cells with a phenotype that is indistinguishable from AM of age-matched WT mice (Fig. 1E). Notably, CSF2-cFLiMo-derived AM were maintained in the lung for at least 1 year after transfer (Fig. 1C, D). Moreover, measurement of protein concentration in the BAL at different time points after transfer showed that CSF2-cFLiMo-AM reconstituted Csf2ra-/- mice were completely protected from PAP up to one year (Fig. 1F and Fig. E3B). These results demonstrate that CSF2-cFLiMo develop into mature AM, which appear functionally equivalent to in situ differentiated AM.\n",
      "--------------------------------------------------------------------------------\n"
     ]
    }
   ],
   "source": [
    "for doc, score in docs_with_score:\n",
    "    print(\"-\" * 80)\n",
    "    print(\"Score: \", score)\n",
    "    print(doc.page_content)\n",
    "    print(\"-\" * 80)"
   ]
  },
  {
   "cell_type": "markdown",
   "id": "b35ab127-383a-481c-ab1a-142d92808989",
   "metadata": {},
   "source": [
    "# Connect to an existing vector Store"
   ]
  },
  {
   "cell_type": "code",
   "execution_count": 26,
   "id": "0c079bf9-384c-4bed-a97e-4a858bf8eae2",
   "metadata": {},
   "outputs": [],
   "source": [
    "db = Neo4JDatabase.from_environment()"
   ]
  },
  {
   "cell_type": "code",
   "execution_count": 27,
   "id": "d32efa34-b949-46c9-b39a-a75b3efb0caf",
   "metadata": {},
   "outputs": [
    {
     "data": {
      "text/plain": [
       "'neo4j://localhost:7687'"
      ]
     },
     "execution_count": 27,
     "metadata": {},
     "output_type": "execute_result"
    }
   ],
   "source": [
    "db.url"
   ]
  },
  {
   "cell_type": "code",
   "execution_count": 28,
   "id": "09d5ed9e-09e0-4ceb-9c4d-5cc57e8c5aff",
   "metadata": {},
   "outputs": [],
   "source": [
    "labels = db.fetch_labels_and_properties()"
   ]
  },
  {
   "cell_type": "code",
   "execution_count": 29,
   "id": "090bd4e8-60e7-4958-a3ce-6e7f3b075afe",
   "metadata": {},
   "outputs": [
    {
     "data": {
      "text/plain": [
       "[{\"labels\": [\"Chunk\"], \"propkeys\": [\"id\", \"text\", \"title\", \"source\", \"embedding\"]}]"
      ]
     },
     "execution_count": 29,
     "metadata": {},
     "output_type": "execute_result"
    }
   ],
   "source": [
    "labels"
   ]
  },
  {
   "cell_type": "code",
   "execution_count": 30,
   "id": "c7e25b30-108e-4c81-9066-fae85b683361",
   "metadata": {},
   "outputs": [
    {
     "data": {
      "text/plain": [
       "[{'labels': ['Chunk'],\n",
       "  'propkeys': ['id', 'text', 'title', 'source', 'embedding']}]"
      ]
     },
     "execution_count": 30,
     "metadata": {},
     "output_type": "execute_result"
    }
   ],
   "source": [
    "labels.data"
   ]
  },
  {
   "cell_type": "code",
   "execution_count": 31,
   "id": "8fea5ac8-489f-482d-895f-994ddcb51f74",
   "metadata": {},
   "outputs": [
    {
     "data": {
      "text/plain": [
       "'r'"
      ]
     },
     "execution_count": 31,
     "metadata": {},
     "output_type": "execute_result"
    }
   ],
   "source": [
    "labels.metadata.query_type"
   ]
  },
  {
   "cell_type": "code",
   "execution_count": 32,
   "id": "67c2ae81-bcfc-4194-9d2b-b3e2d8be0fb7",
   "metadata": {},
   "outputs": [
    {
     "name": "stdout",
     "output_type": "stream",
     "text": [
      "[{\"labels\": [\"Chunk\"], \"propkeys\": [\"id\", \"text\", \"title\", \"source\", \"embedding\"]}]\n"
     ]
    }
   ],
   "source": [
    "print(labels)\n",
    "# This tells us the label and property keys we want when we make our vector."
   ]
  },
  {
   "cell_type": "code",
   "execution_count": 33,
   "id": "6acd45e4-fdec-4262-9235-e110d57d9add",
   "metadata": {},
   "outputs": [
    {
     "data": {
      "text/plain": [
       "[{\"id\": 5, \"name\": \"constraint_1dc138a\", \"type\": \"UNIQUENESS\", \"entityType\": \"NODE\", \"labelsOrTypes\": [\"Chunk\"], \"properties\": [\"id\"], \"ownedIndex\": \"constraint_1dc138a\", \"propertyType\": null}]"
      ]
     },
     "execution_count": 33,
     "metadata": {},
     "output_type": "execute_result"
    }
   ],
   "source": [
    "with db as session:\n",
    "    r = session.execute_read(db.transaction, \"SHOW CONSTRAINTS\")\n",
    "r\n",
    "# this tells us that \"id\" is an index"
   ]
  },
  {
   "cell_type": "code",
   "execution_count": 34,
   "id": "d99706b6-1317-4ea9-b8e3-8321ed91e1ad",
   "metadata": {},
   "outputs": [],
   "source": [
    "vec2 = db.make_vectorstore(\n",
    "    embedding=OpenAIEmbeddings(),\n",
    "    index_name=\"id\",\n",
    "    node_label=\"Chunk\",\n",
    "    text_node_properties=[\"id\", \"text\", \"title\", \"source\", \"embedding\"],\n",
    "    embedding_node_property=\"embedding\"\n",
    ")"
   ]
  },
  {
   "cell_type": "code",
   "execution_count": 35,
   "id": "e2545089-3411-4174-b433-c44c641dd14b",
   "metadata": {},
   "outputs": [
    {
     "data": {
      "text/plain": [
       "langchain.vectorstores.neo4j_vector.Neo4jVector"
      ]
     },
     "execution_count": 35,
     "metadata": {},
     "output_type": "execute_result"
    }
   ],
   "source": [
    "type(vec2)"
   ]
  },
  {
   "cell_type": "code",
   "execution_count": null,
   "id": "2669dbdd-d68d-4201-85a4-a8bffc21c6bb",
   "metadata": {},
   "outputs": [],
   "source": []
  }
 ],
 "metadata": {
  "kernelspec": {
   "display_name": "Python 3 (ipykernel)",
   "language": "python",
   "name": "python3"
  },
  "language_info": {
   "codemirror_mode": {
    "name": "ipython",
    "version": 3
   },
   "file_extension": ".py",
   "mimetype": "text/x-python",
   "name": "python",
   "nbconvert_exporter": "python",
   "pygments_lexer": "ipython3",
   "version": "3.10.13"
  }
 },
 "nbformat": 4,
 "nbformat_minor": 5
}
