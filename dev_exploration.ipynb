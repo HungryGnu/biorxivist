{
 "cells": [
  {
   "cell_type": "markdown",
   "id": "9a6848e7-c143-4534-9f02-325e43f04e15",
   "metadata": {},
   "source": [
    "# BioRxivist\n",
    "\n",
    "BioRxivist is a platform to explore the possibilities in combinding Large Laguage Models (LLM) with full text pre-publication scientific articles from [BioRxiv](https://biorxiv.org).  Use this tool to obtain datasets from BioRxiv publications build knowledge graphs using [Neo4J](https://neo4j.com/).  And facilitate the use of docker run databases and other tools.\n",
    "\n"
   ]
  },
  {
   "cell_type": "markdown",
   "id": "a276b251-07ba-4d3c-8482-084966ce8426",
   "metadata": {},
   "source": [
    "<a id=\"tocz\"></a>\n",
    "## Table of Contents\n",
    "1. ### [Using BioRxivist to find and load text from papers](#loading-text)\n",
    "2. ### [BioRxivistPaper Objects](#paper-object)\n",
    "3. ### [Building Vector embeddings](#embeddings)\n",
    "4. ### [Connecting to and existing vector database](#vectordatabase)"
   ]
  },
  {
   "cell_type": "code",
   "execution_count": 1,
   "id": "c05c418e-cd3c-42a7-9fe5-1c72cb51cf76",
   "metadata": {},
   "outputs": [
    {
     "data": {
      "text/plain": [
       "'3.10.13 (main, Nov 17 2023, 08:59:57) [GCC 9.4.0]'"
      ]
     },
     "execution_count": 1,
     "metadata": {},
     "output_type": "execute_result"
    }
   ],
   "source": [
    "import os\n",
    "import sys\n",
    "sys.version"
   ]
  },
  {
   "cell_type": "code",
   "execution_count": 2,
   "id": "5604835e-25f2-46fc-9a5a-f9f810657121",
   "metadata": {},
   "outputs": [],
   "source": [
    "from dotenv import find_dotenv, load_dotenv\n",
    "from os import environ\n",
    "import openai\n",
    "from warnings import warn\n",
    "# import classes from BioRxivist\n",
    "from biorxivist.webtools import BioRxivPaper\n",
    "from biorxivist.webtools import BioRxivDriver\n",
    "from biorxivist.webtools import SearchResult\n",
    "from langchain.vectorstores import Neo4jVector"
   ]
  },
  {
   "cell_type": "code",
   "execution_count": 3,
   "id": "9611a8eb-9c56-4f97-a19c-1475f1f47611",
   "metadata": {},
   "outputs": [
    {
     "data": {
      "text/plain": [
       "True"
      ]
     },
     "execution_count": 3,
     "metadata": {},
     "output_type": "execute_result"
    }
   ],
   "source": [
    "# load_environment variables like our API key and Neo4J credentials\n",
    "load_dotenv(find_dotenv())"
   ]
  },
  {
   "cell_type": "markdown",
   "id": "91ef7b72-c468-4bd6-8465-8464dbb2e3ae",
   "metadata": {},
   "source": [
    "Setting Up Your Environment\n",
    "\n",
    "Your environment should include the following:\n",
    "\n",
    "```\n",
    "OPENAI_API_KEY=<YOUR_SECRET_KEY>\n",
    "NEO4J_URL=neo4j://localhost:7687\n",
    "NEO4J_USERNAME=neo4j\n",
    "NEO4J_PASSWORD=MyPa$$word!\n",
    "```\n",
    "Get an [openai key](https://openai.com/)\n",
    "\n",
    "If you are installing this package in a development enviornment you might choose to set them in a `.env` environment variable here."
   ]
  },
  {
   "cell_type": "markdown",
   "id": "111478bf-7f81-42d1-a8a1-cab97885d55f",
   "metadata": {},
   "source": [
    "<a id='loading-text'></a>\n",
    "# Using BioRxivist to find and load text from papers\n",
    "\n",
    "The first thing we'll want to do is find a paper of interest.  Well use the object from this package. `BioRxivDriver` will give us access to BioRxiv's search utility. `SearchResuls` will help us manage the results of our search. `BioRxivPaper` will manage how we access text from the papers.\n",
    "\n",
    "\n",
    "[Table Of Contents](#tocz)"
   ]
  },
  {
   "cell_type": "code",
   "execution_count": 4,
   "id": "d1529063-e03d-4488-bb65-208c6bbdedd8",
   "metadata": {},
   "outputs": [],
   "source": [
    "driver = BioRxivDriver()"
   ]
  },
  {
   "cell_type": "code",
   "execution_count": 5,
   "id": "cd805022-1fb4-48c8-a1d4-65d870a66bad",
   "metadata": {},
   "outputs": [],
   "source": [
    "r = driver.search_biorxiv('TGF-Beta 1 Signaling in monocyte maturation')"
   ]
  },
  {
   "cell_type": "code",
   "execution_count": 6,
   "id": "a99a51b9-8d3c-49f9-9e4e-60c5ab684fae",
   "metadata": {},
   "outputs": [
    {
     "data": {
      "text/plain": [
       "'https://www.biorxiv.org/search/TGF-Beta+1+Signaling+in+monocyte+maturation%20numresults:75'"
      ]
     },
     "execution_count": 6,
     "metadata": {},
     "output_type": "execute_result"
    }
   ],
   "source": [
    "r.response.request.url"
   ]
  },
  {
   "cell_type": "code",
   "execution_count": 7,
   "id": "7128d5df-5f5c-4fd4-9345-8d8762beb601",
   "metadata": {},
   "outputs": [
    {
     "data": {
      "text/plain": [
       "biorxivist.webtools.SearchResult"
      ]
     },
     "execution_count": 7,
     "metadata": {},
     "output_type": "execute_result"
    }
   ],
   "source": [
    "type(r)"
   ]
  },
  {
   "cell_type": "code",
   "execution_count": 8,
   "id": "f9cd44c9-0794-4dbf-a369-09ef43dc38c5",
   "metadata": {},
   "outputs": [
    {
     "data": {
      "text/plain": [
       "75"
      ]
     },
     "execution_count": 8,
     "metadata": {},
     "output_type": "execute_result"
    }
   ],
   "source": [
    "len(r.results)"
   ]
  },
  {
   "cell_type": "code",
   "execution_count": 9,
   "id": "b294bd28-a357-488d-83fd-1eb3425b3bd2",
   "metadata": {},
   "outputs": [],
   "source": [
    "# load more results\n",
    "r.more()"
   ]
  },
  {
   "cell_type": "code",
   "execution_count": 10,
   "id": "279cf43f-b3af-43ef-b4d0-693589590bbe",
   "metadata": {},
   "outputs": [
    {
     "data": {
      "text/plain": [
       "150"
      ]
     },
     "execution_count": 10,
     "metadata": {},
     "output_type": "execute_result"
    }
   ],
   "source": [
    "len(r.results)"
   ]
  },
  {
   "cell_type": "code",
   "execution_count": 11,
   "id": "a2733528-4b18-4f79-84e6-e9bacd70e444",
   "metadata": {
    "scrolled": true
   },
   "outputs": [
    {
     "data": {
      "text/plain": [
       "[[Shear Stress Induces a Time-Dependent Inflammatory Response in Human Monocyte-Derived Macrophages](https://biorxiv.org/content/10.1101/2022.12.08.519590v3),\n",
       " [Cross-species analysis identifies conserved transcriptional mechanisms of neutrophil maturation](https://biorxiv.org/content/10.1101/2022.11.28.518146v1),\n",
       " [Melanogenic Activity Facilitates Dendritic Cell Maturation via FMOD](https://biorxiv.org/content/10.1101/2022.05.14.491976v2),\n",
       " [Microglia integration into human midbrain organoids leads to increased neuronal maturation and functionality](https://biorxiv.org/content/10.1101/2022.01.21.477192v1),\n",
       " [Long-term culture of fetal monocyte precursors in vitro allowing the generation of bona fide alveolar macrophages in vivo](https://biorxiv.org/content/10.1101/2021.06.04.447115v2)]"
      ]
     },
     "execution_count": 11,
     "metadata": {},
     "output_type": "execute_result"
    }
   ],
   "source": [
    "# Results are a list of BioRxivPaper objects\n",
    "r.results[0:5]"
   ]
  },
  {
   "cell_type": "markdown",
   "id": "f3084d76-6a86-4b7c-96a6-00f6613b2760",
   "metadata": {},
   "source": [
    "<a id='paper-object'></a>\n",
    "# BioRxivPaper Objects:\n",
    "BioRxiv Paper objects link us to BioRxiv resources related to individual papers. Once instantiated these papers load a minimal amount of information into memory the URI of the papers homepage and the title.  Other features like the paper's abstract and full text are lazy-loaded properties. They are only accessed once we call them for the first time. After that they are available from memory so we don't have to hit the URL another time.\n",
    "\n",
    "They are also feed directly into our LangChain pipeline.  In the next section we will make sure of their BioRxivPaper.langchain_html_doc attribute.\n",
    "\n",
    "[Table of Contents](#tocz)"
   ]
  },
  {
   "cell_type": "markdown",
   "id": "97dfc87b-2008-47e5-922a-21deac938c99",
   "metadata": {},
   "source": [
    "# Interact with individual papers:\n",
    "The results are a collection of BioRxivPaper objects.  We can interact with them by indexing into the list or we can pull them out and interact with them here:"
   ]
  },
  {
   "cell_type": "code",
   "execution_count": 12,
   "id": "a50604bf-6ac2-422f-8f9f-302bca715fdc",
   "metadata": {},
   "outputs": [],
   "source": [
    "paper3 = r.results[3]"
   ]
  },
  {
   "cell_type": "code",
   "execution_count": 13,
   "id": "63275c1a-a20d-4536-81ad-f621b265fbc7",
   "metadata": {},
   "outputs": [
    {
     "data": {
      "text/plain": [
       "'Microglia integration into human midbrain organoids leads to increased neuronal maturation and functionality'"
      ]
     },
     "execution_count": 13,
     "metadata": {},
     "output_type": "execute_result"
    }
   ],
   "source": [
    "paper3.title"
   ]
  },
  {
   "cell_type": "code",
   "execution_count": 14,
   "id": "a5b6b4d7-d2ea-402f-841f-ef8fc9ed8369",
   "metadata": {
    "scrolled": true
   },
   "outputs": [
    {
     "data": {
      "text/plain": [
       "'The human brain is a complex, three-dimensional structure. To better recapitulate brain complexity, recent efforts have focused on the development of human specific midbrain organoids. Human iPSC-derived midbrain organoids consist of differentiated and functional neurons, which contain active synapses, as well as astrocytes and oligodendrocytes. However, the absence of microglia, with their ability to remodel neuronal networks and phagocytose apoptotic cells and debris, represents a major disadvantage for the current midbrain organoid systems. Additionally, neuro-inflammation related disease modeling is not possible in the absence of microglia. So far, no studies about the effects of human iPSC-derived microglia on midbrain organoid neural cells have been published. Here we describe an approach to derive microglia from human iPSCs and integrate them into iPSC-derived midbrain organoids. Using single nuclear RNA Sequencing, we provide a detailed characterization of microglia in midbrain organoids as well as the influence of their presence on the other cells of the organoids. Furthermore, we describe the effects that microglia have on cell death and oxidative stress- related gene expression. Finally, we show that microglia in midbrain organoids affect synaptic remodeling and increase neuronal excitability. Altogether, we show a more suitable system to further investigate brain development, as well as neurodegenerative diseases and neuro- inflammation.\\n\\nMain Points\\n\\n– Macrophage precursors can be efficiently co-cultured with midbrain organoids, they integrate into the tissue and differentiate into microglia in 3D.\\n\\n– Organoids containing microglia have a smaller size and show a down-regulation of oxidative stress-related genes.\\n\\n– Organoids co-cultured with microglia show differences in genes related to synaptic remodeling and action potential, as well as a more spontaneous action potential firing.'"
      ]
     },
     "execution_count": 14,
     "metadata": {},
     "output_type": "execute_result"
    }
   ],
   "source": [
    "paper3.abstract"
   ]
  },
  {
   "cell_type": "markdown",
   "id": "1ba4ad80-e6f8-4655-9833-6d7f52082a2f",
   "metadata": {},
   "source": [
    "# Accessing the paper's text\n",
    "\n",
    "There are now a few ways to access the papers text:"
   ]
  },
  {
   "cell_type": "code",
   "execution_count": 15,
   "id": "95269fac-94bd-4e1b-bb37-628e2576d6b4",
   "metadata": {
    "scrolled": true
   },
   "outputs": [
    {
     "name": "stdout",
     "output_type": "stream",
     "text": [
      "...r ability to remodel neuronal networks and phagocytose apoptotic cells and debris, represents a major disadvantage for the current midbrain organoid systems. Additionally, neuro-inflammation related disease modeling is not possible in the absence of microglia. So far, no studies about the effects of human iPSC-derived microglia on midbrain organoid neural cells have been published. Here we describe an approach to derive microglia from human iPSCs and integrate them into iPSC-derived midbrain organoids. Using single nuclear RNA Sequencing, we provide a detailed characterization of microglia in midbrain...\n"
     ]
    }
   ],
   "source": [
    "# through the paper.text property:\n",
    "# print(paper3.text)\n",
    "# by accessing the BioRxivPaper.__str__ attribute:\n",
    "print(f'...{paper3[392:1000]}...')"
   ]
  },
  {
   "cell_type": "markdown",
   "id": "3d838013-9177-4876-b516-96556492247e",
   "metadata": {},
   "source": [
    "<a id='embeddings'></a>\n",
    "# Build vector Embeddings\n",
    "\n",
    "You can use OpenAI to build vecotor embeddings from the paper(s) you extract from BioRxiv.  This will form the bases of all tools to follow. =\n",
    "\n",
    "\n",
    "[Table of Contents](#tocz)"
   ]
  },
  {
   "cell_type": "code",
   "execution_count": 16,
   "id": "237d148d-2481-48ea-8dea-964fe697fc64",
   "metadata": {},
   "outputs": [],
   "source": [
    "openai.api_key = environ['OPENAI_API_KEY']"
   ]
  },
  {
   "cell_type": "code",
   "execution_count": 17,
   "id": "92b72fcc-de3f-4042-8941-5f7251574c41",
   "metadata": {},
   "outputs": [],
   "source": [
    "from langchain.embeddings.openai import OpenAIEmbeddings"
   ]
  },
  {
   "cell_type": "code",
   "execution_count": 18,
   "id": "6b261b72-11e8-4c8f-a838-33bc8adaa1a1",
   "metadata": {},
   "outputs": [
    {
     "name": "stderr",
     "output_type": "stream",
     "text": [
      "Created a chunk of size 1473, which is longer than the specified 1000\n",
      "Created a chunk of size 1440, which is longer than the specified 1000\n",
      "Created a chunk of size 1038, which is longer than the specified 1000\n",
      "Created a chunk of size 1232, which is longer than the specified 1000\n",
      "Created a chunk of size 1149, which is longer than the specified 1000\n",
      "Created a chunk of size 1177, which is longer than the specified 1000\n",
      "Created a chunk of size 1144, which is longer than the specified 1000\n",
      "Created a chunk of size 1029, which is longer than the specified 1000\n",
      "Created a chunk of size 1039, which is longer than the specified 1000\n",
      "Created a chunk of size 1408, which is longer than the specified 1000\n",
      "Created a chunk of size 1071, which is longer than the specified 1000\n",
      "Created a chunk of size 1400, which is longer than the specified 1000\n",
      "Created a chunk of size 1863, which is longer than the specified 1000\n",
      "Created a chunk of size 1268, which is longer than the specified 1000\n",
      "Created a chunk of size 1113, which is longer than the specified 1000\n",
      "Created a chunk of size 3284, which is longer than the specified 1000\n",
      "Created a chunk of size 1067, which is longer than the specified 1000\n",
      "Created a chunk of size 1805, which is longer than the specified 1000\n",
      "Created a chunk of size 1341, which is longer than the specified 1000\n",
      "Created a chunk of size 2355, which is longer than the specified 1000\n",
      "Created a chunk of size 1540, which is longer than the specified 1000\n",
      "Created a chunk of size 1061, which is longer than the specified 1000\n",
      "Created a chunk of size 1025, which is longer than the specified 1000\n",
      "Created a chunk of size 1201, which is longer than the specified 1000\n",
      "Created a chunk of size 1355, which is longer than the specified 1000\n",
      "Created a chunk of size 1183, which is longer than the specified 1000\n",
      "Created a chunk of size 1463, which is longer than the specified 1000\n",
      "Created a chunk of size 1648, which is longer than the specified 1000\n",
      "Created a chunk of size 2672, which is longer than the specified 1000\n",
      "Created a chunk of size 1016, which is longer than the specified 1000\n",
      "Created a chunk of size 2228, which is longer than the specified 1000\n",
      "Created a chunk of size 1566, which is longer than the specified 1000\n",
      "Created a chunk of size 2109, which is longer than the specified 1000\n"
     ]
    },
    {
     "data": {
      "text/plain": [
       "78"
      ]
     },
     "execution_count": 18,
     "metadata": {},
     "output_type": "execute_result"
    }
   ],
   "source": [
    "len(paper3.langchain_doc)"
   ]
  },
  {
   "cell_type": "code",
   "execution_count": 19,
   "id": "3dae019a-c352-4a5f-86f3-46aa42ed215d",
   "metadata": {},
   "outputs": [],
   "source": [
    "# TODO lets make an object in BioRxivist that does this\n",
    "vec = Neo4jVector.from_documents(\n",
    "    paper3.langchain_doc,\n",
    "    OpenAIEmbeddings()\n",
    ")\n",
    "# If you have your NEO4J environment variables set no need to set them here."
   ]
  },
  {
   "cell_type": "code",
   "execution_count": 20,
   "id": "c8828b86-77b5-43b6-989d-b4b099ad8b31",
   "metadata": {},
   "outputs": [
    {
     "data": {
      "text/plain": [
       "langchain.vectorstores.neo4j_vector.Neo4jVector"
      ]
     },
     "execution_count": 20,
     "metadata": {},
     "output_type": "execute_result"
    }
   ],
   "source": [
    "type(vec)"
   ]
  },
  {
   "cell_type": "code",
   "execution_count": 21,
   "id": "9dadf370-918a-4760-907d-b6bf2ee02f8b",
   "metadata": {},
   "outputs": [],
   "source": [
    "docs_with_score = vec.similarity_search_with_score('Providing the reasonging complete the following the function of CSF2 is <BLANK>?', k=5)"
   ]
  },
  {
   "cell_type": "code",
   "execution_count": 22,
   "id": "09f4dc4e-b0c6-4c46-8e3b-432cba829992",
   "metadata": {},
   "outputs": [
    {
     "data": {
      "text/plain": [
       "(Document(page_content='In addition to the homeostatic function, AM play an essential role in protecting influenza virus-infected mice from morbidity by maintaining lung integrity through the removal of dead cells and excess surfactant (Schneider et al, 2014). To assess the functional capacity of CSF2-cFLiMo-derived AM during pulmonary virus infection, we reconstituted Csf2ra-/- neonates with CSF2-cFLiMo and infected adults 10 weeks later with influenza virus PR8 (Fig. 5A). Without transfer, Csf2ra-/- mice succumbed to infection due to lung failure (Fig. 5B-E), as reported previously (Schneider et al, 2017). Notably, the presence of CSF2-cFLiMo-derived-AM protected Csf2ra-/- mice from severe morbidity (Fig. 5B, C) and completely restored viability (Fig. 5D) and O2 saturation (Fig. 5E) compared to infected WT mice.', metadata={'title': 'Long-term culture of fetal monocyte precursors in vitro allowing the generation of bona fide alveolar macrophages in vivo', 'source': 'https://biorxiv.org/content/10.1101/2021.06.04.447115v2.full-text'}),\n",
       " 0.9044170379638672)"
      ]
     },
     "execution_count": 22,
     "metadata": {},
     "output_type": "execute_result"
    }
   ],
   "source": [
    "docs_with_score[0]"
   ]
  },
  {
   "cell_type": "code",
   "execution_count": 23,
   "id": "a6237058-580e-4c80-8fe8-c92fc8367e70",
   "metadata": {},
   "outputs": [
    {
     "name": "stdout",
     "output_type": "stream",
     "text": [
      "--------------------------------------------------------------------------------\n",
      "Score:  0.9044170379638672\n",
      "In addition to the homeostatic function, AM play an essential role in protecting influenza virus-infected mice from morbidity by maintaining lung integrity through the removal of dead cells and excess surfactant (Schneider et al, 2014). To assess the functional capacity of CSF2-cFLiMo-derived AM during pulmonary virus infection, we reconstituted Csf2ra-/- neonates with CSF2-cFLiMo and infected adults 10 weeks later with influenza virus PR8 (Fig. 5A). Without transfer, Csf2ra-/- mice succumbed to infection due to lung failure (Fig. 5B-E), as reported previously (Schneider et al, 2017). Notably, the presence of CSF2-cFLiMo-derived-AM protected Csf2ra-/- mice from severe morbidity (Fig. 5B, C) and completely restored viability (Fig. 5D) and O2 saturation (Fig. 5E) compared to infected WT mice.\n",
      "--------------------------------------------------------------------------------\n",
      "--------------------------------------------------------------------------------\n",
      "Score:  0.9043794870376587\n",
      "In addition to the homeostatic function, AM play an essential role in protecting influenza virus-infected mice from morbidity by maintaining lung integrity through the removal of dead cells and excess surfactant (Schneider et al, 2014). To assess the functional capacity of CSF2-cFLiMo-derived AM during pulmonary virus infection, we reconstituted Csf2ra-/- neonates with CSF2-cFLiMo and infected adults 10 weeks later with influenza virus PR8 (Fig. 5A). Without transfer, Csf2ra-/- mice succumbed to infection due to lung failure (Fig. 5B-E), as reported previously (Schneider et al, 2017). Notably, the presence of CSF2-cFLiMo-derived-AM protected Csf2ra-/- mice from severe morbidity (Fig. 5B, C) and completely restored viability (Fig. 5D) and O2 saturation (Fig. 5E) compared to infected WT mice.\n",
      "--------------------------------------------------------------------------------\n",
      "--------------------------------------------------------------------------------\n",
      "Score:  0.9014166593551636\n",
      "CSF2-cFLiMo generated from wild-type or gene-deficient mice could be used as a high-throughput screening system to study AM development in vitro and in vivo. Our model is suitable to study the relationship between AM and lung tissue, as well as the roles of specific genes or factors in AM development and function. Furthermore, CSF2-cFLiMo can overcome the limitation in macrophage precursor numbers and be used as a therapeutic approach for PAP disease or in other macrophage-based cell therapies including lung emphysema, lung fibrosis, lung infectious disease and lung cancer (Byrne et al, 2016; Lee et al, 2016; Wilson et al, 2010). Finally, genetically modified and transferred CSF2-cFLiMo might facilitate the controlled expression of specific therapeutic proteins in the lung for disease treatment, and therefore, could represent an attractive alternative to non-specific gene delivery by viral vectors.\n",
      "--------------------------------------------------------------------------------\n",
      "--------------------------------------------------------------------------------\n",
      "Score:  0.901383638381958\n",
      "CSF2-cFLiMo generated from wild-type or gene-deficient mice could be used as a high-throughput screening system to study AM development in vitro and in vivo. Our model is suitable to study the relationship between AM and lung tissue, as well as the roles of specific genes or factors in AM development and function. Furthermore, CSF2-cFLiMo can overcome the limitation in macrophage precursor numbers and be used as a therapeutic approach for PAP disease or in other macrophage-based cell therapies including lung emphysema, lung fibrosis, lung infectious disease and lung cancer (Byrne et al, 2016; Lee et al, 2016; Wilson et al, 2010). Finally, genetically modified and transferred CSF2-cFLiMo might facilitate the controlled expression of specific therapeutic proteins in the lung for disease treatment, and therefore, could represent an attractive alternative to non-specific gene delivery by viral vectors.\n",
      "--------------------------------------------------------------------------------\n",
      "--------------------------------------------------------------------------------\n",
      "Score:  0.901383638381958\n",
      "Overall, our studies demonstrate that CSF2-cFLiMo-AM were functionally equivalent to naturally differentiated AM. To determine the number of donor cells required to fully reconstitute the AM compartment of Csf2ra-/- mice, we titrated the number of transferred CSF2-cFLiMo (Fig. 4A). Transfer of a minimum of 5×104 CSF2-cFLiMo to neonatal Csf2ra-/- mice resulted in AM numbers in adult recipients that were comparable to unmanipulated WT mice (around 5×105) (Fig. 4B) and protected mice from PAP (Fig. 4C). We have previously established that around 10% of primary fetal liver monocytes supplied intranasally reach the lung (Li et al, 2020). Thus, CSF2-cFLiMo have expanded around 100-fold 6 weeks after transfer to Csf2ra-/- neonates. Notably, extended time of CSF2-cFLiMo in vitro culture (i.e. 4 months) prior transfer into recipient mice did not negatively affect their differentiation and functional capacity (Fig. 4B, C). Another critical function of tissue-resident macrophages including AM is the removal of apoptotic cells (efferocytosis) (Morioka et al, 2019). We compared efferocytosis between CSF2-cFLiMo-AM in Csf2ra-/- mice and AM in WT mice by intratracheal (i.t.) installation of labelled apoptotic thymocytes. CSF2-cFLiMo-AM and AM were equally potent at phagocytosing apoptotic cells from the bronchoalveolar space (Fig. 4D).\n",
      "--------------------------------------------------------------------------------\n"
     ]
    }
   ],
   "source": [
    "for doc, score in docs_with_score:\n",
    "    print(\"-\" * 80)\n",
    "    print(\"Score: \", score)\n",
    "    print(doc.page_content)\n",
    "    print(\"-\" * 80)"
   ]
  },
  {
   "cell_type": "markdown",
   "id": "b35ab127-383a-481c-ab1a-142d92808989",
   "metadata": {},
   "source": [
    "<a id='vectordatabase'></a>\n",
    "# Connect to an existing vector store\n",
    "\n",
    "Once you have a vector store in your enviroment BioRxivist can simplify how you access and interact with that data using its `Neo4JDatabase` object.\n",
    "\n",
    "\n",
    "[Table of Contents](#tocz)"
   ]
  },
  {
   "cell_type": "markdown",
   "id": "f9284bda-abab-47fb-b01e-4f8c51e83e29",
   "metadata": {},
   "source": [
    "## From Existing Index:"
   ]
  },
  {
   "cell_type": "code",
   "execution_count": 24,
   "id": "0c079bf9-384c-4bed-a97e-4a858bf8eae2",
   "metadata": {},
   "outputs": [],
   "source": [
    "index_name = \"vector\"  # default index name\n",
    "\n",
    "store = Neo4jVector.from_existing_index(\n",
    "    OpenAIEmbeddings(),\n",
    "    index_name=index_name,\n",
    ")\n",
    "# consuming the NEOJ environment variables"
   ]
  },
  {
   "cell_type": "code",
   "execution_count": 25,
   "id": "1277a38d-755a-49e4-b82c-a4426cd63c22",
   "metadata": {},
   "outputs": [
    {
     "data": {
      "text/plain": [
       "langchain.vectorstores.neo4j_vector.Neo4jVector"
      ]
     },
     "execution_count": 25,
     "metadata": {},
     "output_type": "execute_result"
    }
   ],
   "source": [
    "type(store)"
   ]
  },
  {
   "cell_type": "code",
   "execution_count": 26,
   "id": "d0741bcb-cdb6-485a-aac0-6d6e06abbd95",
   "metadata": {},
   "outputs": [],
   "source": [
    "result = store.similarity_search_with_score('CSF2', k=5)"
   ]
  },
  {
   "cell_type": "code",
   "execution_count": 27,
   "id": "e95ea61a-e7bd-4fa5-b4b5-be3de590a31b",
   "metadata": {},
   "outputs": [
    {
     "data": {
      "text/plain": [
       "[(Document(page_content='CSF2-cFLiMo generated from wild-type or gene-deficient mice could be used as a high-throughput screening system to study AM development in vitro and in vivo. Our model is suitable to study the relationship between AM and lung tissue, as well as the roles of specific genes or factors in AM development and function. Furthermore, CSF2-cFLiMo can overcome the limitation in macrophage precursor numbers and be used as a therapeutic approach for PAP disease or in other macrophage-based cell therapies including lung emphysema, lung fibrosis, lung infectious disease and lung cancer (Byrne et al, 2016; Lee et al, 2016; Wilson et al, 2010). Finally, genetically modified and transferred CSF2-cFLiMo might facilitate the controlled expression of specific therapeutic proteins in the lung for disease treatment, and therefore, could represent an attractive alternative to non-specific gene delivery by viral vectors.', metadata={'title': 'Long-term culture of fetal monocyte precursors in vitro allowing the generation of bona fide alveolar macrophages in vivo', 'source': 'https://biorxiv.org/content/10.1101/2021.06.04.447115v2.full-text'}),\n",
       "  0.9244592189788818),\n",
       " (Document(page_content='CSF2-cFLiMo generated from wild-type or gene-deficient mice could be used as a high-throughput screening system to study AM development in vitro and in vivo. Our model is suitable to study the relationship between AM and lung tissue, as well as the roles of specific genes or factors in AM development and function. Furthermore, CSF2-cFLiMo can overcome the limitation in macrophage precursor numbers and be used as a therapeutic approach for PAP disease or in other macrophage-based cell therapies including lung emphysema, lung fibrosis, lung infectious disease and lung cancer (Byrne et al, 2016; Lee et al, 2016; Wilson et al, 2010). Finally, genetically modified and transferred CSF2-cFLiMo might facilitate the controlled expression of specific therapeutic proteins in the lung for disease treatment, and therefore, could represent an attractive alternative to non-specific gene delivery by viral vectors.', metadata={'title': 'Long-term culture of fetal monocyte precursors in vitro allowing the generation of bona fide alveolar macrophages in vivo', 'source': 'https://biorxiv.org/content/10.1101/2021.06.04.447115v2.full-text'}),\n",
       "  0.9244399070739746),\n",
       " (Document(page_content='Next, we assessed whether CSF2-cFLiMo show therapeutic activity upon transfer into adult Csf2ra-/- mice, which had already developed PAP. Adult Csf2ra-/- mice were transferred i.t. with 0.5, 1 or 2 million CSF2-cFLiMo (Fig. 4E-G). Ten weeks after transfer, donor-derived AM were detectable in the BAL and lung of Csf2ra-/- only in recipients transferred with 2 million cells (Fig. 4F). The protein levels in the BAL from mice transferred with 2×106 cells were significantly lower when compared to naïve Csf2ra-/- mice, suggesting that transferred cells were able to reduce proteinosis, although not to the level of WT mice (Fig. 4G). However, CSF2-cFLiMo-derived AM exhibited higher expression of F4/80 and CD11b, and lower expression of Siglec-F and CD64 when compared to WT AM (Fig. E5A, B), indicating that the AM phenotype was not fully recapitulated but intermediate between AM-derived from CSF2-cFLiMo transferred to neonates and AM-derived from CSF2-cFLiMo transplanted to adult mice. These results show that CSF2-cFLiMo can reproduce AM phenotype and function most adequately only when transferred to neonatal Csf2ra-/- mice.', metadata={'title': 'Long-term culture of fetal monocyte precursors in vitro allowing the generation of bona fide alveolar macrophages in vivo', 'source': 'https://biorxiv.org/content/10.1101/2021.06.04.447115v2.full-text'}),\n",
       "  0.9204541444778442),\n",
       " (Document(page_content='Next, we assessed whether CSF2-cFLiMo show therapeutic activity upon transfer into adult Csf2ra-/- mice, which had already developed PAP. Adult Csf2ra-/- mice were transferred i.t. with 0.5, 1 or 2 million CSF2-cFLiMo (Fig. 4E-G). Ten weeks after transfer, donor-derived AM were detectable in the BAL and lung of Csf2ra-/- only in recipients transferred with 2 million cells (Fig. 4F). The protein levels in the BAL from mice transferred with 2×106 cells were significantly lower when compared to naïve Csf2ra-/- mice, suggesting that transferred cells were able to reduce proteinosis, although not to the level of WT mice (Fig. 4G). However, CSF2-cFLiMo-derived AM exhibited higher expression of F4/80 and CD11b, and lower expression of Siglec-F and CD64 when compared to WT AM (Fig. E5A, B), indicating that the AM phenotype was not fully recapitulated but intermediate between AM-derived from CSF2-cFLiMo transferred to neonates and AM-derived from CSF2-cFLiMo transplanted to adult mice. These results show that CSF2-cFLiMo can reproduce AM phenotype and function most adequately only when transferred to neonatal Csf2ra-/- mice.', metadata={'title': 'Long-term culture of fetal monocyte precursors in vitro allowing the generation of bona fide alveolar macrophages in vivo', 'source': 'https://biorxiv.org/content/10.1101/2021.06.04.447115v2.full-text'}),\n",
       "  0.9204541444778442),\n",
       " (Document(page_content='Overall, our studies demonstrate that CSF2-cFLiMo-AM were functionally equivalent to naturally differentiated AM. To determine the number of donor cells required to fully reconstitute the AM compartment of Csf2ra-/- mice, we titrated the number of transferred CSF2-cFLiMo (Fig. 4A). Transfer of a minimum of 5×104 CSF2-cFLiMo to neonatal Csf2ra-/- mice resulted in AM numbers in adult recipients that were comparable to unmanipulated WT mice (around 5×105) (Fig. 4B) and protected mice from PAP (Fig. 4C). We have previously established that around 10% of primary fetal liver monocytes supplied intranasally reach the lung (Li et al, 2020). Thus, CSF2-cFLiMo have expanded around 100-fold 6 weeks after transfer to Csf2ra-/- neonates. Notably, extended time of CSF2-cFLiMo in vitro culture (i.e. 4 months) prior transfer into recipient mice did not negatively affect their differentiation and functional capacity (Fig. 4B, C). Another critical function of tissue-resident macrophages including AM is the removal of apoptotic cells (efferocytosis) (Morioka et al, 2019). We compared efferocytosis between CSF2-cFLiMo-AM in Csf2ra-/- mice and AM in WT mice by intratracheal (i.t.) installation of labelled apoptotic thymocytes. CSF2-cFLiMo-AM and AM were equally potent at phagocytosing apoptotic cells from the bronchoalveolar space (Fig. 4D).', metadata={'title': 'Long-term culture of fetal monocyte precursors in vitro allowing the generation of bona fide alveolar macrophages in vivo', 'source': 'https://biorxiv.org/content/10.1101/2021.06.04.447115v2.full-text'}),\n",
       "  0.9189490675926208)]"
      ]
     },
     "execution_count": 27,
     "metadata": {},
     "output_type": "execute_result"
    }
   ],
   "source": [
    "result"
   ]
  },
  {
   "cell_type": "markdown",
   "id": "5e8375ae-6fde-4b38-a0eb-9247fe4c741e",
   "metadata": {},
   "source": [
    "## From Graph"
   ]
  },
  {
   "cell_type": "code",
   "execution_count": 28,
   "id": "09d5ed9e-09e0-4ceb-9c4d-5cc57e8c5aff",
   "metadata": {},
   "outputs": [],
   "source": [
    "# Now we initialize from existing graph\n",
    "existing_graph = Neo4jVector.from_existing_graph(\n",
    "    embedding=OpenAIEmbeddings(),\n",
    "    index_name=\"vector\",\n",
    "    node_label=\"Chunk\",\n",
    "    text_node_properties=[\"text\", \"title\"], # not all the properties, only those that contain text.\n",
    "    embedding_node_property=\"embedding\",\n",
    ")\n",
    "\n"
   ]
  },
  {
   "cell_type": "code",
   "execution_count": 29,
   "id": "f69e23cf-8150-48e7-80d0-8b977e9841a7",
   "metadata": {},
   "outputs": [
    {
     "data": {
      "text/plain": [
       "langchain.vectorstores.neo4j_vector.Neo4jVector"
      ]
     },
     "execution_count": 29,
     "metadata": {},
     "output_type": "execute_result"
    }
   ],
   "source": [
    "type(existing_graph)"
   ]
  },
  {
   "cell_type": "code",
   "execution_count": 30,
   "id": "52cd6094-d3e1-4295-8b4a-517680c8815a",
   "metadata": {},
   "outputs": [
    {
     "data": {
      "text/plain": [
       "1536"
      ]
     },
     "execution_count": 30,
     "metadata": {},
     "output_type": "execute_result"
    }
   ],
   "source": [
    "existing_graph.retrieve_existing_index()"
   ]
  },
  {
   "cell_type": "code",
   "execution_count": 31,
   "id": "ec2182b9-9bc9-4903-a6d5-df5d97904284",
   "metadata": {},
   "outputs": [
    {
     "data": {
      "text/plain": [
       "[Document(page_content='\\ntext: Tissue-resident macrophages (MFTR) are heterogeneous cell populations, present in almost all tissues and play multiple tissue-specific functions in homeostasis and diseases (Davies et al, 2013; Hoeffel & Ginhoux, 2015). MF-based therapies have been proposed as potential strategies in various diseases (Duan & Luo, 2021; Mass & Lachmann, 2021; Moroni et al, 2019; Peng et al, 2020).\\ntitle: Long-term culture of fetal monocyte precursors in vitro allowing the generation of bona fide alveolar macrophages in vivo', metadata={'source': 'https://biorxiv.org/content/10.1101/2021.06.04.447115v2.full-text'})]"
      ]
     },
     "execution_count": 31,
     "metadata": {},
     "output_type": "execute_result"
    }
   ],
   "source": [
    "existing_graph.similarity_search('macrophage', k=1)"
   ]
  },
  {
   "cell_type": "markdown",
   "id": "d2cd63b8-e303-4a73-a6ce-1607234990cc",
   "metadata": {},
   "source": [
    "<a id='loading-docs'></a>\n",
    "# Loading more Documents:\n"
   ]
  },
  {
   "cell_type": "code",
   "execution_count": 32,
   "id": "7d953869-963f-4bca-9669-ec0518d138e3",
   "metadata": {},
   "outputs": [
    {
     "name": "stderr",
     "output_type": "stream",
     "text": [
      "Created a chunk of size 1197, which is longer than the specified 1000\n",
      "Created a chunk of size 1274, which is longer than the specified 1000\n",
      "Created a chunk of size 1647, which is longer than the specified 1000\n",
      "Created a chunk of size 1902, which is longer than the specified 1000\n",
      "Created a chunk of size 1529, which is longer than the specified 1000\n",
      "Created a chunk of size 1496, which is longer than the specified 1000\n",
      "Created a chunk of size 1123, which is longer than the specified 1000\n",
      "Created a chunk of size 1078, which is longer than the specified 1000\n",
      "Created a chunk of size 1122, which is longer than the specified 1000\n",
      "Created a chunk of size 1342, which is longer than the specified 1000\n",
      "Created a chunk of size 1292, which is longer than the specified 1000\n",
      "Created a chunk of size 1133, which is longer than the specified 1000\n",
      "Created a chunk of size 1627, which is longer than the specified 1000\n",
      "Created a chunk of size 1483, which is longer than the specified 1000\n",
      "Created a chunk of size 1387, which is longer than the specified 1000\n",
      "Created a chunk of size 1177, which is longer than the specified 1000\n",
      "Created a chunk of size 1695, which is longer than the specified 1000\n",
      "Created a chunk of size 1495, which is longer than the specified 1000\n",
      "Created a chunk of size 1233, which is longer than the specified 1000\n",
      "Created a chunk of size 1192, which is longer than the specified 1000\n",
      "Created a chunk of size 1187, which is longer than the specified 1000\n",
      "Created a chunk of size 1174, which is longer than the specified 1000\n",
      "Created a chunk of size 1123, which is longer than the specified 1000\n",
      "Created a chunk of size 1152, which is longer than the specified 1000\n",
      "Created a chunk of size 1570, which is longer than the specified 1000\n",
      "Created a chunk of size 1949, which is longer than the specified 1000\n",
      "Created a chunk of size 2081, which is longer than the specified 1000\n",
      "Created a chunk of size 1684, which is longer than the specified 1000\n",
      "Created a chunk of size 1417, which is longer than the specified 1000\n",
      "Created a chunk of size 1135, which is longer than the specified 1000\n",
      "Created a chunk of size 1802, which is longer than the specified 1000\n",
      "Created a chunk of size 2324, which is longer than the specified 1000\n",
      "Created a chunk of size 2531, which is longer than the specified 1000\n",
      "Created a chunk of size 2305, which is longer than the specified 1000\n",
      "Created a chunk of size 1827, which is longer than the specified 1000\n",
      "Created a chunk of size 1184, which is longer than the specified 1000\n",
      "Created a chunk of size 1262, which is longer than the specified 1000\n",
      "Created a chunk of size 1257, which is longer than the specified 1000\n",
      "Created a chunk of size 1333, which is longer than the specified 1000\n",
      "Created a chunk of size 1973, which is longer than the specified 1000\n",
      "Created a chunk of size 1119, which is longer than the specified 1000\n",
      "Created a chunk of size 1354, which is longer than the specified 1000\n",
      "Created a chunk of size 1713, which is longer than the specified 1000\n",
      "Created a chunk of size 2247, which is longer than the specified 1000\n",
      "Created a chunk of size 1141, which is longer than the specified 1000\n",
      "Created a chunk of size 1748, which is longer than the specified 1000\n",
      "Created a chunk of size 1078, which is longer than the specified 1000\n",
      "Created a chunk of size 1617, which is longer than the specified 1000\n",
      "Created a chunk of size 1177, which is longer than the specified 1000\n",
      "Created a chunk of size 2214, which is longer than the specified 1000\n",
      "Created a chunk of size 1250, which is longer than the specified 1000\n",
      "Created a chunk of size 2109, which is longer than the specified 1000\n",
      "Created a chunk of size 1155, which is longer than the specified 1000\n",
      "Created a chunk of size 1693, which is longer than the specified 1000\n",
      "Created a chunk of size 1464, which is longer than the specified 1000\n",
      "Created a chunk of size 1908, which is longer than the specified 1000\n",
      "Created a chunk of size 1051, which is longer than the specified 1000\n",
      "Created a chunk of size 1717, which is longer than the specified 1000\n",
      "Created a chunk of size 1895, which is longer than the specified 1000\n",
      "Created a chunk of size 1343, which is longer than the specified 1000\n",
      "Created a chunk of size 1392, which is longer than the specified 1000\n",
      "Created a chunk of size 1749, which is longer than the specified 1000\n",
      "Created a chunk of size 2950, which is longer than the specified 1000\n",
      "Created a chunk of size 1353, which is longer than the specified 1000\n",
      "Created a chunk of size 1181, which is longer than the specified 1000\n",
      "Created a chunk of size 1021, which is longer than the specified 1000\n",
      "Created a chunk of size 1893, which is longer than the specified 1000\n",
      "Created a chunk of size 1382, which is longer than the specified 1000\n",
      "Created a chunk of size 1572, which is longer than the specified 1000\n",
      "Created a chunk of size 1249, which is longer than the specified 1000\n",
      "Created a chunk of size 1352, which is longer than the specified 1000\n",
      "Created a chunk of size 1622, which is longer than the specified 1000\n",
      "Created a chunk of size 1245, which is longer than the specified 1000\n",
      "Created a chunk of size 1197, which is longer than the specified 1000\n",
      "Created a chunk of size 1637, which is longer than the specified 1000\n",
      "Created a chunk of size 1650, which is longer than the specified 1000\n",
      "Created a chunk of size 1328, which is longer than the specified 1000\n",
      "Created a chunk of size 1813, which is longer than the specified 1000\n",
      "Created a chunk of size 1379, which is longer than the specified 1000\n",
      "Created a chunk of size 1778, which is longer than the specified 1000\n",
      "Created a chunk of size 1105, which is longer than the specified 1000\n",
      "Created a chunk of size 1018, which is longer than the specified 1000\n",
      "Created a chunk of size 2206, which is longer than the specified 1000\n",
      "Created a chunk of size 1385, which is longer than the specified 1000\n",
      "Created a chunk of size 1368, which is longer than the specified 1000\n",
      "Created a chunk of size 1706, which is longer than the specified 1000\n",
      "Created a chunk of size 1203, which is longer than the specified 1000\n",
      "Created a chunk of size 1673, which is longer than the specified 1000\n",
      "Created a chunk of size 1012, which is longer than the specified 1000\n",
      "Created a chunk of size 1284, which is longer than the specified 1000\n",
      "Created a chunk of size 1192, which is longer than the specified 1000\n",
      "Created a chunk of size 1273, which is longer than the specified 1000\n",
      "Created a chunk of size 1116, which is longer than the specified 1000\n",
      "Created a chunk of size 1388, which is longer than the specified 1000\n",
      "Created a chunk of size 1274, which is longer than the specified 1000\n",
      "Created a chunk of size 1415, which is longer than the specified 1000\n",
      "Created a chunk of size 1022, which is longer than the specified 1000\n",
      "Created a chunk of size 1670, which is longer than the specified 1000\n",
      "Created a chunk of size 1016, which is longer than the specified 1000\n",
      "Created a chunk of size 1322, which is longer than the specified 1000\n",
      "Created a chunk of size 1037, which is longer than the specified 1000\n",
      "Created a chunk of size 2057, which is longer than the specified 1000\n",
      "Created a chunk of size 1567, which is longer than the specified 1000\n",
      "Created a chunk of size 3516, which is longer than the specified 1000\n",
      "Created a chunk of size 1450, which is longer than the specified 1000\n",
      "Created a chunk of size 1333, which is longer than the specified 1000\n",
      "Created a chunk of size 1638, which is longer than the specified 1000\n",
      "Created a chunk of size 1570, which is longer than the specified 1000\n",
      "Created a chunk of size 1050, which is longer than the specified 1000\n",
      "Created a chunk of size 1759, which is longer than the specified 1000\n",
      "Created a chunk of size 1635, which is longer than the specified 1000\n",
      "Created a chunk of size 1031, which is longer than the specified 1000\n",
      "Created a chunk of size 1163, which is longer than the specified 1000\n",
      "Created a chunk of size 1205, which is longer than the specified 1000\n",
      "Created a chunk of size 1091, which is longer than the specified 1000\n",
      "Created a chunk of size 1055, which is longer than the specified 1000\n",
      "Created a chunk of size 1069, which is longer than the specified 1000\n",
      "Created a chunk of size 1342, which is longer than the specified 1000\n",
      "Created a chunk of size 1072, which is longer than the specified 1000\n",
      "Created a chunk of size 1100, which is longer than the specified 1000\n",
      "Created a chunk of size 1867, which is longer than the specified 1000\n",
      "Created a chunk of size 1156, which is longer than the specified 1000\n",
      "Created a chunk of size 1286, which is longer than the specified 1000\n",
      "Created a chunk of size 1204, which is longer than the specified 1000\n",
      "Created a chunk of size 1156, which is longer than the specified 1000\n",
      "Created a chunk of size 1234, which is longer than the specified 1000\n",
      "Created a chunk of size 1305, which is longer than the specified 1000\n",
      "Created a chunk of size 1152, which is longer than the specified 1000\n",
      "Created a chunk of size 1416, which is longer than the specified 1000\n",
      "Created a chunk of size 1220, which is longer than the specified 1000\n",
      "Created a chunk of size 1152, which is longer than the specified 1000\n",
      "Created a chunk of size 1260, which is longer than the specified 1000\n",
      "Created a chunk of size 1947, which is longer than the specified 1000\n",
      "Created a chunk of size 1309, which is longer than the specified 1000\n",
      "Created a chunk of size 1383, which is longer than the specified 1000\n",
      "Created a chunk of size 1072, which is longer than the specified 1000\n",
      "Created a chunk of size 1083, which is longer than the specified 1000\n",
      "Created a chunk of size 1201, which is longer than the specified 1000\n",
      "Created a chunk of size 1724, which is longer than the specified 1000\n",
      "Created a chunk of size 1615, which is longer than the specified 1000\n",
      "Created a chunk of size 1414, which is longer than the specified 1000\n",
      "Created a chunk of size 1138, which is longer than the specified 1000\n",
      "Created a chunk of size 4048, which is longer than the specified 1000\n",
      "Created a chunk of size 1488, which is longer than the specified 1000\n",
      "Created a chunk of size 2798, which is longer than the specified 1000\n",
      "Created a chunk of size 1826, which is longer than the specified 1000\n",
      "Created a chunk of size 1408, which is longer than the specified 1000\n",
      "Created a chunk of size 1702, which is longer than the specified 1000\n",
      "Created a chunk of size 1395, which is longer than the specified 1000\n",
      "Created a chunk of size 1554, which is longer than the specified 1000\n",
      "Created a chunk of size 1246, which is longer than the specified 1000\n",
      "Created a chunk of size 1122, which is longer than the specified 1000\n",
      "Created a chunk of size 1284, which is longer than the specified 1000\n",
      "Created a chunk of size 1857, which is longer than the specified 1000\n",
      "Created a chunk of size 1193, which is longer than the specified 1000\n",
      "Created a chunk of size 1243, which is longer than the specified 1000\n",
      "Created a chunk of size 1626, which is longer than the specified 1000\n",
      "Created a chunk of size 1347, which is longer than the specified 1000\n",
      "Created a chunk of size 1461, which is longer than the specified 1000\n",
      "Created a chunk of size 1800, which is longer than the specified 1000\n",
      "Created a chunk of size 1129, which is longer than the specified 1000\n",
      "Created a chunk of size 1198, which is longer than the specified 1000\n",
      "Created a chunk of size 1185, which is longer than the specified 1000\n",
      "Created a chunk of size 1059, which is longer than the specified 1000\n",
      "Created a chunk of size 1456, which is longer than the specified 1000\n",
      "Created a chunk of size 1481, which is longer than the specified 1000\n",
      "Created a chunk of size 1138, which is longer than the specified 1000\n",
      "Created a chunk of size 1589, which is longer than the specified 1000\n",
      "Created a chunk of size 1674, which is longer than the specified 1000\n",
      "Created a chunk of size 1113, which is longer than the specified 1000\n",
      "Created a chunk of size 1109, which is longer than the specified 1000\n",
      "Created a chunk of size 1233, which is longer than the specified 1000\n",
      "Created a chunk of size 1981, which is longer than the specified 1000\n",
      "Created a chunk of size 3724, which is longer than the specified 1000\n",
      "Created a chunk of size 1729, which is longer than the specified 1000\n",
      "Created a chunk of size 1288, which is longer than the specified 1000\n",
      "Created a chunk of size 1951, which is longer than the specified 1000\n",
      "Created a chunk of size 1023, which is longer than the specified 1000\n",
      "Created a chunk of size 1137, which is longer than the specified 1000\n",
      "Created a chunk of size 1121, which is longer than the specified 1000\n",
      "Created a chunk of size 1686, which is longer than the specified 1000\n",
      "Created a chunk of size 1167, which is longer than the specified 1000\n",
      "Created a chunk of size 1119, which is longer than the specified 1000\n",
      "Created a chunk of size 1186, which is longer than the specified 1000\n",
      "Created a chunk of size 1067, which is longer than the specified 1000\n",
      "Created a chunk of size 1401, which is longer than the specified 1000\n",
      "Created a chunk of size 1495, which is longer than the specified 1000\n",
      "Created a chunk of size 1077, which is longer than the specified 1000\n",
      "Created a chunk of size 1446, which is longer than the specified 1000\n",
      "Created a chunk of size 1379, which is longer than the specified 1000\n",
      "Created a chunk of size 1294, which is longer than the specified 1000\n",
      "Created a chunk of size 1211, which is longer than the specified 1000\n",
      "Created a chunk of size 1156, which is longer than the specified 1000\n",
      "Created a chunk of size 1437, which is longer than the specified 1000\n",
      "Created a chunk of size 1751, which is longer than the specified 1000\n",
      "Created a chunk of size 1397, which is longer than the specified 1000\n",
      "Created a chunk of size 1613, which is longer than the specified 1000\n",
      "Created a chunk of size 1135, which is longer than the specified 1000\n",
      "Created a chunk of size 1066, which is longer than the specified 1000\n",
      "Created a chunk of size 1135, which is longer than the specified 1000\n",
      "Created a chunk of size 2279, which is longer than the specified 1000\n",
      "Created a chunk of size 1140, which is longer than the specified 1000\n",
      "Created a chunk of size 1768, which is longer than the specified 1000\n",
      "Created a chunk of size 2995, which is longer than the specified 1000\n",
      "Created a chunk of size 1922, which is longer than the specified 1000\n",
      "Created a chunk of size 1583, which is longer than the specified 1000\n",
      "Created a chunk of size 1047, which is longer than the specified 1000\n",
      "Created a chunk of size 1038, which is longer than the specified 1000\n",
      "Created a chunk of size 1014, which is longer than the specified 1000\n",
      "Created a chunk of size 1397, which is longer than the specified 1000\n",
      "/home/ted/code/nlp_etl_presentation/biorxivist/biorxivist/webtools.py:148: UserWarning: Unable to locate an anchor with the tags: {'data-panel-name': 'article_tab_full_text'}.\n",
      "  warn(f'Unable to locate an anchor with the tags: {tag_dict}.')\n",
      "/tmp/ipykernel_47315/383292953.py:5: UserWarning: No HTML: The link must be a string completing a valid URL not <class 'NoneType'>.\n",
      "  warn(f'No HTML: {e}')\n"
     ]
    }
   ],
   "source": [
    "for p in r.results[4:13]:\n",
    "    try:\n",
    "        store.add_documents(p.langchain_doc)\n",
    "    except TypeError as e:\n",
    "        warn(f'No HTML: {e}')"
   ]
  },
  {
   "cell_type": "markdown",
   "id": "f27a7716-35a6-422d-892f-4d1ca1df1001",
   "metadata": {},
   "source": [
    "# Setup `Neo4jVector` as a retreiver"
   ]
  },
  {
   "cell_type": "code",
   "execution_count": 33,
   "id": "3c50a2c3-3d86-4cd4-9317-59e553d213cd",
   "metadata": {},
   "outputs": [],
   "source": [
    "retriever = store.as_retriever()\n"
   ]
  },
  {
   "cell_type": "markdown",
   "id": "75ab12cb-ec06-4701-a592-f431ac8a9fe9",
   "metadata": {},
   "source": [
    "## Questions Answering with Sources"
   ]
  },
  {
   "cell_type": "code",
   "execution_count": 34,
   "id": "b1fefe63-a6d0-4a51-9996-348e76fea2ba",
   "metadata": {},
   "outputs": [],
   "source": [
    "from langchain.chains import RetrievalQAWithSourcesChain\n",
    "from langchain.chat_models import ChatOpenAI"
   ]
  },
  {
   "cell_type": "code",
   "execution_count": 35,
   "id": "ea8f15dd-49b6-4d35-8c4a-c24066f9842d",
   "metadata": {},
   "outputs": [],
   "source": [
    "chain = RetrievalQAWithSourcesChain.from_chain_type(\n",
    "    ChatOpenAI(temperature=0), retriever=retriever\n",
    ")"
   ]
  },
  {
   "cell_type": "code",
   "execution_count": 36,
   "id": "70a24013-2f6c-43f5-8fc5-f40e70883c93",
   "metadata": {},
   "outputs": [],
   "source": [
    "answer = chain(\n",
    "    {\"question\": \"What is the role of TGF-beta 1 in monocyte maturation?\"},\n",
    "    return_only_outputs=True,\n",
    ")"
   ]
  },
  {
   "cell_type": "code",
   "execution_count": 37,
   "id": "ca9ec2d1-80d9-4129-9f05-3487b53ff49c",
   "metadata": {},
   "outputs": [
    {
     "data": {
      "text/plain": [
       "{'answer': 'TGF-beta 1 plays a role in the development of cLP tissue-resident macrophages and is linked to the transition of monocytes to macrophages. Loss of TGFβ-Receptor on macrophages resulted in a minor impairment of macrophage differentiation.\\n',\n",
       " 'sources': 'https://biorxiv.org/content/10.1101/601963v1.full-text, https://biorxiv.org/content/10.1101/2021.06.04.447115v2.full-text'}"
      ]
     },
     "execution_count": 37,
     "metadata": {},
     "output_type": "execute_result"
    }
   ],
   "source": [
    "answer"
   ]
  },
  {
   "cell_type": "code",
   "execution_count": 38,
   "id": "abaacdb1-c92b-41f9-9e25-ad8edac30854",
   "metadata": {},
   "outputs": [],
   "source": [
    "answer = answer = chain(\n",
    "    {\"question\": \"How are mice used in TGF-bet 1 research?\"},\n",
    "    return_only_outputs=True,\n",
    ")"
   ]
  },
  {
   "cell_type": "code",
   "execution_count": 39,
   "id": "ffabba64-0593-4065-bc72-9ebab7ec642a",
   "metadata": {},
   "outputs": [
    {
     "data": {
      "text/plain": [
       "{'answer': 'Mice were infected with Helicobacter hepaticus (Hh) in TGF-bet 1 research.\\n',\n",
       " 'sources': 'https://biorxiv.org/content/10.1101/601963v1.full-text'}"
      ]
     },
     "execution_count": 39,
     "metadata": {},
     "output_type": "execute_result"
    }
   ],
   "source": [
    "answer"
   ]
  },
  {
   "cell_type": "code",
   "execution_count": 40,
   "id": "47ee8ecf-c2c8-444f-b621-9fac21b7864a",
   "metadata": {},
   "outputs": [],
   "source": [
    "answer = answer = chain(\n",
    "    {\"question\": \"What factors have been found to impact the activity of alveolar macrophages?\"},\n",
    "    return_only_outputs=True,\n",
    ")"
   ]
  },
  {
   "cell_type": "code",
   "execution_count": 41,
   "id": "ef57c307-e742-4ee5-93d0-475075c2a5b1",
   "metadata": {},
   "outputs": [
    {
     "data": {
      "text/plain": [
       "{'answer': 'Factors that impact the activity of alveolar macrophages include the presence of GM-CSF-induced PPARγ, absence of PPARγ, GM-CSF, or GM-CSFR subunits Csf2ra and Csf2rb, and mutations in CSF2RA and CSF2RB genes. Additionally, the differentiation of M-CSF-derived BMM or GM-CSF-derived BMM can lead to the development of alveolar macrophages.\\n',\n",
       " 'sources': 'https://biorxiv.org/content/10.1101/2021.06.04.447115v2.full-text'}"
      ]
     },
     "execution_count": 41,
     "metadata": {},
     "output_type": "execute_result"
    }
   ],
   "source": [
    "answer"
   ]
  },
  {
   "cell_type": "code",
   "execution_count": 42,
   "id": "b7176045-8b50-4f0e-b03b-3c12ca44982c",
   "metadata": {},
   "outputs": [],
   "source": [
    "answer = answer = chain(\n",
    "    {\"question\": \"What factors have been found to induce anti-inflamatory states in maturing monocytes?\"},\n",
    "    return_only_outputs=True,\n",
    ")"
   ]
  },
  {
   "cell_type": "code",
   "execution_count": 43,
   "id": "108a71a7-ee87-4b79-acd9-e0e7c3e78ee4",
   "metadata": {},
   "outputs": [
    {
     "data": {
      "text/plain": [
       "{'answer': 'The factors that have been found to induce anti-inflammatory states in maturing monocytes are TGFβ and IL10 cytokines.\\n',\n",
       " 'sources': 'https://biorxiv.org/content/10.1101/601963v1.full-text'}"
      ]
     },
     "execution_count": 43,
     "metadata": {},
     "output_type": "execute_result"
    }
   ],
   "source": [
    "answer"
   ]
  },
  {
   "cell_type": "code",
   "execution_count": 44,
   "id": "94fb7efd-7f56-46e1-a69c-96b0ab4edf54",
   "metadata": {},
   "outputs": [],
   "source": [
    "answer = answer = chain(\n",
    "    {\"question\": \"How have monocytes been linked to CXCL4 signaling?\"},\n",
    "    return_only_outputs=True,\n",
    ")"
   ]
  },
  {
   "cell_type": "code",
   "execution_count": 45,
   "id": "0a833170-0874-4af9-be91-05cb83348f18",
   "metadata": {},
   "outputs": [
    {
     "data": {
      "text/plain": [
       "{'answer': 'Monocytes have been linked to CXCL4 signaling through the differentiation of monocyte-derived dendritic cells (moDCs) in the presence of CXCL4. This process was studied to understand the effects of CXCL4 on the trajectory of monocyte differentiation into moDCs and moDC maturation.\\n',\n",
       " 'sources': 'https://biorxiv.org/content/10.1101/807230v1.full-text'}"
      ]
     },
     "execution_count": 45,
     "metadata": {},
     "output_type": "execute_result"
    }
   ],
   "source": [
    "answer"
   ]
  },
  {
   "cell_type": "code",
   "execution_count": null,
   "id": "9c3381c1-54ee-4ae2-b9a3-d2ecdb380401",
   "metadata": {},
   "outputs": [],
   "source": []
  }
 ],
 "metadata": {
  "kernelspec": {
   "display_name": "Python 3 (ipykernel)",
   "language": "python",
   "name": "python3"
  },
  "language_info": {
   "codemirror_mode": {
    "name": "ipython",
    "version": 3
   },
   "file_extension": ".py",
   "mimetype": "text/x-python",
   "name": "python",
   "nbconvert_exporter": "python",
   "pygments_lexer": "ipython3",
   "version": "3.10.13"
  }
 },
 "nbformat": 4,
 "nbformat_minor": 5
}
